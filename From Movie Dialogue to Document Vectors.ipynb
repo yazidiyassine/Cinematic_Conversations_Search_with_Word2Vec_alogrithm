{
 "cells": [
  {
   "cell_type": "markdown",
   "id": "cf61c4ae",
   "metadata": {},
   "source": [
    "# Exercise 62: From Movie Dialogue to Document Vectors"
   ]
  },
  {
   "cell_type": "code",
   "execution_count": 21,
   "id": "4f7f2c33",
   "metadata": {},
   "outputs": [],
   "source": [
    "import pandas as pd\n",
    "from gensim import utils\n",
    "from gensim.models.doc2vec import TaggedDocument\n",
    "from gensim.models import Doc2Vec\n",
    "from gensim.parsing.preprocessing import preprocess_string, remove_stopwords\n",
    "import random\n",
    "import warnings\n",
    "warnings.filterwarnings(\"ignore\")"
   ]
  },
  {
   "cell_type": "markdown",
   "id": "17ad50a4",
   "metadata": {},
   "source": [
    "Set the display column width to be as wide as it needs to be in order to display the\n",
    "movie lines."
   ]
  },
  {
   "cell_type": "code",
   "execution_count": 2,
   "id": "4e9fcea3",
   "metadata": {},
   "outputs": [],
   "source": [
    "pd.set_option('display.max_colwidth', -1)"
   ]
  },
  {
   "cell_type": "markdown",
   "id": "dacccebf",
   "metadata": {},
   "source": [
    "Provide the location of the movie_lines.txt file and assign that location to\n",
    "the movie_lines_file variable."
   ]
  },
  {
   "cell_type": "code",
   "execution_count": 3,
   "id": "4d2288f0",
   "metadata": {},
   "outputs": [],
   "source": [
    "from pathlib import Path \n",
    "\n",
    "movie_lines_file = Path(r'dataset\\cornell-movie-dialogs\\movie_lines.txt')"
   ]
  },
  {
   "cell_type": "markdown",
   "id": "4f13beca",
   "metadata": {},
   "source": [
    "The columns in the movie_lines.txt file are delimited by '+++$+++'. For loading the\n",
    "movie dialogue, you will need to iterate over each movie line in the file and split\n",
    "the columns. After that, you need to create a DataFrame containing the movie lines."
   ]
  },
  {
   "cell_type": "code",
   "execution_count": 4,
   "id": "eda13c69",
   "metadata": {},
   "outputs": [],
   "source": [
    "with movie_lines_file.open() as f:\n",
    "    movie_lines = [line.strip().split('+++$+++') for line in f.readlines()]"
   ]
  },
  {
   "cell_type": "code",
   "execution_count": 6,
   "id": "203e9985",
   "metadata": {},
   "outputs": [],
   "source": [
    "lines_df = pd.DataFrame([{'LineNumber': d[0].strip(),\n",
    "                         'Person': d[3].strip(),\n",
    "                         'Line': d[4].strip(),\n",
    "                         'Movie': d[2].strip()}\n",
    "                        for d in movie_lines])\n",
    "\n",
    "lines_df = lines_df.set_index('LineNumber')"
   ]
  },
  {
   "cell_type": "code",
   "execution_count": 7,
   "id": "c7828e1d",
   "metadata": {},
   "outputs": [
    {
     "data": {
      "text/html": [
       "<div>\n",
       "<style scoped>\n",
       "    .dataframe tbody tr th:only-of-type {\n",
       "        vertical-align: middle;\n",
       "    }\n",
       "\n",
       "    .dataframe tbody tr th {\n",
       "        vertical-align: top;\n",
       "    }\n",
       "\n",
       "    .dataframe thead th {\n",
       "        text-align: right;\n",
       "    }\n",
       "</style>\n",
       "<table border=\"1\" class=\"dataframe\">\n",
       "  <thead>\n",
       "    <tr style=\"text-align: right;\">\n",
       "      <th></th>\n",
       "      <th>Person</th>\n",
       "      <th>Line</th>\n",
       "      <th>Movie</th>\n",
       "    </tr>\n",
       "    <tr>\n",
       "      <th>LineNumber</th>\n",
       "      <th></th>\n",
       "      <th></th>\n",
       "      <th></th>\n",
       "    </tr>\n",
       "  </thead>\n",
       "  <tbody>\n",
       "    <tr>\n",
       "      <th>L1045</th>\n",
       "      <td>BIANCA</td>\n",
       "      <td>They do not!</td>\n",
       "      <td>m0</td>\n",
       "    </tr>\n",
       "    <tr>\n",
       "      <th>L1044</th>\n",
       "      <td>CAMERON</td>\n",
       "      <td>They do to!</td>\n",
       "      <td>m0</td>\n",
       "    </tr>\n",
       "    <tr>\n",
       "      <th>L985</th>\n",
       "      <td>BIANCA</td>\n",
       "      <td>I hope so.</td>\n",
       "      <td>m0</td>\n",
       "    </tr>\n",
       "    <tr>\n",
       "      <th>L984</th>\n",
       "      <td>CAMERON</td>\n",
       "      <td>She okay?</td>\n",
       "      <td>m0</td>\n",
       "    </tr>\n",
       "    <tr>\n",
       "      <th>L925</th>\n",
       "      <td>BIANCA</td>\n",
       "      <td>Let's go.</td>\n",
       "      <td>m0</td>\n",
       "    </tr>\n",
       "    <tr>\n",
       "      <th>L924</th>\n",
       "      <td>CAMERON</td>\n",
       "      <td>Wow</td>\n",
       "      <td>m0</td>\n",
       "    </tr>\n",
       "    <tr>\n",
       "      <th>L872</th>\n",
       "      <td>BIANCA</td>\n",
       "      <td>Okay -- you're gonna need to learn how to lie.</td>\n",
       "      <td>m0</td>\n",
       "    </tr>\n",
       "    <tr>\n",
       "      <th>L871</th>\n",
       "      <td>CAMERON</td>\n",
       "      <td>No</td>\n",
       "      <td>m0</td>\n",
       "    </tr>\n",
       "    <tr>\n",
       "      <th>L870</th>\n",
       "      <td>BIANCA</td>\n",
       "      <td>I'm kidding.  You know how sometimes you just become this \"persona\"?  And you don't know how to quit?</td>\n",
       "      <td>m0</td>\n",
       "    </tr>\n",
       "    <tr>\n",
       "      <th>L869</th>\n",
       "      <td>BIANCA</td>\n",
       "      <td>Like my fear of wearing pastels?</td>\n",
       "      <td>m0</td>\n",
       "    </tr>\n",
       "  </tbody>\n",
       "</table>\n",
       "</div>"
      ],
      "text/plain": [
       "             Person  \\\n",
       "LineNumber            \n",
       "L1045       BIANCA    \n",
       "L1044       CAMERON   \n",
       "L985        BIANCA    \n",
       "L984        CAMERON   \n",
       "L925        BIANCA    \n",
       "L924        CAMERON   \n",
       "L872        BIANCA    \n",
       "L871        CAMERON   \n",
       "L870        BIANCA    \n",
       "L869        BIANCA    \n",
       "\n",
       "                                                                                                             Line  \\\n",
       "LineNumber                                                                                                          \n",
       "L1045       They do not!                                                                                            \n",
       "L1044       They do to!                                                                                             \n",
       "L985        I hope so.                                                                                              \n",
       "L984        She okay?                                                                                               \n",
       "L925        Let's go.                                                                                               \n",
       "L924        Wow                                                                                                     \n",
       "L872        Okay -- you're gonna need to learn how to lie.                                                          \n",
       "L871        No                                                                                                      \n",
       "L870        I'm kidding.  You know how sometimes you just become this \"persona\"?  And you don't know how to quit?   \n",
       "L869        Like my fear of wearing pastels?                                                                        \n",
       "\n",
       "           Movie  \n",
       "LineNumber        \n",
       "L1045       m0    \n",
       "L1044       m0    \n",
       "L985        m0    \n",
       "L984        m0    \n",
       "L925        m0    \n",
       "L924        m0    \n",
       "L872        m0    \n",
       "L871        m0    \n",
       "L870        m0    \n",
       "L869        m0    "
      ]
     },
     "execution_count": 7,
     "metadata": {},
     "output_type": "execute_result"
    }
   ],
   "source": [
    "lines_df.head(10)"
   ]
  },
  {
   "cell_type": "code",
   "execution_count": 9,
   "id": "0e3a91ef",
   "metadata": {},
   "outputs": [
    {
     "data": {
      "text/plain": [
       "304713"
      ]
     },
     "execution_count": 9,
     "metadata": {},
     "output_type": "execute_result"
    }
   ],
   "source": [
    "len(lines_df)"
   ]
  },
  {
   "cell_type": "code",
   "execution_count": 10,
   "id": "6efc4630",
   "metadata": {},
   "outputs": [
    {
     "data": {
      "text/plain": [
       "Person    5356  \n",
       "Line      265786\n",
       "Movie     617   \n",
       "dtype: int64"
      ]
     },
     "execution_count": 10,
     "metadata": {},
     "output_type": "execute_result"
    }
   ],
   "source": [
    "# To display the count of distinct observations in a DataFrame,\n",
    "lines_df.nunique()"
   ]
  },
  {
   "cell_type": "code",
   "execution_count": 11,
   "id": "1a199244",
   "metadata": {},
   "outputs": [],
   "source": [
    "lines_df_small = lines_df.head(50000)"
   ]
  },
  {
   "cell_type": "markdown",
   "id": "c20f17c4",
   "metadata": {},
   "source": [
    "We now create a class, the object of which will create the training instances for\n",
    "the Doc2Vec model."
   ]
  },
  {
   "cell_type": "code",
   "execution_count": 28,
   "id": "2e33a4cf",
   "metadata": {},
   "outputs": [],
   "source": [
    "class DocumentDataset(object):\n",
    "    \n",
    "    def __init__(self, data:pd.DataFrame, column):\n",
    "        document = data[column].apply(self.preprocess)\n",
    "        self.documents = [TaggedDocument(text, [index])\n",
    "                     for index, text in document.items()]\n",
    "    def preprocess(self, document):\n",
    "        return preprocess_string(remove_stopwords(document))\n",
    "    \n",
    "    def __iter__(self):\n",
    "        for document in self.documents:\n",
    "            yield document\n",
    "    def tagged_documents(self, shuffle=False):\n",
    "        if shuffle:\n",
    "            random.shuffle(self.documents)\n",
    "        return self.documents"
   ]
  },
  {
   "cell_type": "markdown",
   "id": "2b9e1c4e",
   "metadata": {},
   "source": [
    "In the code, the preprocess_string() function applies the given filters to the input.\n",
    "The remove_stopwords() function is used to remove stopwords from the given\n",
    "document.\n",
    "Doc2Vec requires each instance to be a TaggedDocument instance. So, internally, we\n",
    "create a list of TaggedDocument for each movie line in the file."
   ]
  },
  {
   "cell_type": "markdown",
   "id": "c76a2fe4",
   "metadata": {},
   "source": [
    "Now create an object of the DocumentDataset class. It takes two parameters. One is\n",
    "the lines_df_small DataFrame and another one the \"Line\" column name."
   ]
  },
  {
   "cell_type": "code",
   "execution_count": 30,
   "id": "85b5ec72",
   "metadata": {},
   "outputs": [],
   "source": [
    "documents_dataset = DocumentDataset(lines_df_small, 'Line')"
   ]
  },
  {
   "cell_type": "code",
   "execution_count": 31,
   "id": "e3abfbcd",
   "metadata": {},
   "outputs": [],
   "source": [
    "# Now we create a Doc2Vec model using the Doc2Vec class.\n",
    "docVecModel = Doc2Vec(min_count=1, window=5, vector_size=100, sample=1e-4,negative=5, workers=8)\n",
    "\n",
    "docVecModel.build_vocab(documents_dataset.tagged_documents())"
   ]
  },
  {
   "cell_type": "markdown",
   "id": "30b822b6",
   "metadata": {},
   "source": [
    "In the code, the Doc2Vec class contains parameters such as min_count, window,\n",
    "vector_size, sample, negative, and workers. The min_count parameter ignores all\n",
    "the words with a frequency less than that specified. The window parameter sets the\n",
    "maximum distance between the current and predicted word in the given sentence.\n",
    "The vector_size parameter helps in setting the dimensions of each vector. sample\n",
    "is the threshold that allows us to configure the higher-frequency words that are\n",
    "regularly downsampled. negative specifies the total amount of noise words that\n",
    "should be drawn. workers specifies the total number of threads required to train\n",
    "the model."
   ]
  },
  {
   "cell_type": "markdown",
   "id": "3fdcc83a",
   "metadata": {},
   "source": [
    "Now we need to train the model using the train() function of the Doc2Vec class.\n",
    "This could take a while, depending on how many records we train. Here epochs\n",
    "states the total number of it required to train the document."
   ]
  },
  {
   "cell_type": "code",
   "execution_count": 32,
   "id": "dc552c6c",
   "metadata": {},
   "outputs": [],
   "source": [
    "docVecModel.train(documents_dataset.tagged_documents(shuffle=True),\n",
    "                 total_examples=docVecModel.corpus_count,\n",
    "                 epochs=10)"
   ]
  },
  {
   "cell_type": "code",
   "execution_count": 44,
   "id": "f821d4e8",
   "metadata": {},
   "outputs": [
    {
     "data": {
      "text/plain": [
       "array([ 2.00740481e-03, -2.56481394e-03,  1.07402785e-03,  4.12506610e-03,\n",
       "       -6.52146013e-03,  5.65765519e-03, -1.51522434e-03,  1.36431982e-03,\n",
       "        2.42220284e-03, -9.67851782e-04, -9.41455271e-03, -4.86226706e-03,\n",
       "        6.74681971e-03, -6.54865848e-03,  3.06608644e-03,  3.73357558e-03,\n",
       "       -5.71757881e-03,  5.34214173e-03, -1.76930765e-03, -2.64442380e-04,\n",
       "        6.49584970e-03,  6.57471828e-03, -8.79454147e-03,  1.11976842e-04,\n",
       "       -2.32730163e-05, -5.26313728e-04,  3.68390768e-03, -2.23210151e-03,\n",
       "       -3.99507023e-03, -8.93792079e-04, -6.83911797e-03,  8.13798606e-03,\n",
       "       -7.50814471e-03,  1.76514720e-03, -5.40891197e-03, -1.38192589e-03,\n",
       "        3.95007257e-04, -4.16365778e-03,  6.88218093e-03, -6.30038371e-03,\n",
       "       -1.44563755e-03,  8.99838167e-04, -1.52748749e-02, -9.91841312e-04,\n",
       "        6.97445648e-04,  3.02610715e-04,  1.18979253e-03, -5.46956807e-03,\n",
       "       -7.38804927e-03, -9.88892745e-03, -1.13594895e-02,  7.64420768e-03,\n",
       "        4.82969405e-03, -7.35196704e-03,  1.58745260e-03,  5.85840875e-03,\n",
       "       -1.13247673e-03,  2.94738752e-03, -4.24435781e-03,  8.64683371e-03,\n",
       "        3.81174544e-03,  3.96855967e-03,  4.80242493e-03,  4.28000465e-03,\n",
       "        6.37857663e-03, -4.60642681e-04, -9.14772879e-03, -4.06894088e-03,\n",
       "        4.95324563e-03,  4.58886265e-04, -9.04917368e-04,  1.75396551e-03,\n",
       "       -6.89147320e-03, -4.44489485e-03,  8.19871854e-03, -2.33376026e-03,\n",
       "        6.93059876e-04,  4.78394562e-04,  6.08488219e-03,  4.33698017e-03,\n",
       "        1.82389864e-04,  2.24692654e-03, -7.48102088e-04,  4.04791906e-03,\n",
       "        7.07823504e-03, -5.48780989e-03, -1.64423394e-03, -6.80592516e-03,\n",
       "        4.07285290e-03,  8.58216779e-04,  6.63859025e-03,  1.61469635e-03,\n",
       "       -6.56770915e-03,  6.70395093e-03,  8.75265617e-03,  6.18542451e-03,\n",
       "       -7.15382444e-03,  2.26188335e-03,  3.04700760e-03,  7.88651779e-03],\n",
       "      dtype=float32)"
      ]
     },
     "execution_count": 44,
     "metadata": {},
     "output_type": "execute_result"
    }
   ],
   "source": [
    "# The model has been trained. In order to check that, we need to access one of the vectors.\n",
    "docVecModel['L872']"
   ]
  },
  {
   "cell_type": "markdown",
   "id": "f2c4491e",
   "metadata": {},
   "source": [
    "To check the image representation of any given vector, we make use of the pyplot\n",
    "framework of the Matplotlib library. The show_movie_line() function takes a line\n",
    "number as a parameter. Based on this line number, we find the vector and store it\n",
    "in the doc_vector variable. The show_image() function takes two parameters, vector\n",
    "and line, and displays the image representation of the vector."
   ]
  },
  {
   "cell_type": "code",
   "execution_count": 34,
   "id": "f95b82dc",
   "metadata": {},
   "outputs": [],
   "source": [
    "import matplotlib.pyplot as plt"
   ]
  },
  {
   "cell_type": "code",
   "execution_count": 35,
   "id": "6c045201",
   "metadata": {},
   "outputs": [],
   "source": [
    "def show_image(vector, line):\n",
    "    fig, ax = plt.subplots(1, 1, figsize=(10, 2))\n",
    "    ax.tick_params(axis='both',\n",
    "                  which='both',\n",
    "                  left=False,\n",
    "                  bottom=False,\n",
    "                  top=False,\n",
    "                  labelleft=False,\n",
    "                  labelbottom=False)\n",
    "    \n",
    "    ax.grid(False)\n",
    "    print(line)\n",
    "    ax.bar(range(len(vector)), vector, 0.5)\n"
   ]
  },
  {
   "cell_type": "code",
   "execution_count": 42,
   "id": "da3bc10f",
   "metadata": {},
   "outputs": [],
   "source": [
    "def show_movie_line(line_number):\n",
    "    line = lines_df_small.loc['L872'].Line\n",
    "    doc_vector = docVecModel[line_number]\n",
    "    show_image(doc_vector, line)"
   ]
  },
  {
   "cell_type": "markdown",
   "id": "c9729614",
   "metadata": {},
   "source": [
    "Since we have defined our functions now, let's implement the show_movie_line()\n",
    "function to view the image representation of the vector."
   ]
  },
  {
   "cell_type": "code",
   "execution_count": 43,
   "id": "a5a319e5",
   "metadata": {},
   "outputs": [
    {
     "name": "stdout",
     "output_type": "stream",
     "text": [
      "Okay -- you're gonna need to learn how to lie.\n"
     ]
    },
    {
     "data": {
      "image/png": "[encoded data removed]",
      "text/plain": [
       "<Figure size 1000x200 with 1 Axes>"
      ]
     },
     "metadata": {},
     "output_type": "display_data"
    }
   ],
   "source": [
    "show_movie_line('L872')"
   ]
  }
 ],
 "metadata": {
  "kernelspec": {
   "display_name": "Python 3 (ipykernel)",
   "language": "python",
   "name": "python3"
  },
  "language_info": {
   "codemirror_mode": {
    "name": "ipython",
    "version": 3
   },
   "file_extension": ".py",
   "mimetype": "text/x-python",
   "name": "python",
   "nbconvert_exporter": "python",
   "pygments_lexer": "ipython3",
   "version": "3.9.13"
  }
 },
 "nbformat": 4,
 "nbformat_minor": 5
}
